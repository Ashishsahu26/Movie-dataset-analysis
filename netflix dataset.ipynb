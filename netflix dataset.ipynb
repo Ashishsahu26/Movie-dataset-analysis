{
 "cells": [
  {
   "cell_type": "code",
   "execution_count": 102,
   "id": "1b0eb574-01af-448d-b5c3-abbac5051447",
   "metadata": {},
   "outputs": [],
   "source": [
    "import numpy as np\n",
    "import pandas as pd\n",
    "import matplotlib.pyplot as plt\n",
    "import seaborn as sns"
   ]
  },
  {
   "cell_type": "code",
   "execution_count": 103,
   "id": "4d370ee4-f4ff-48c0-b8c8-b6fb93e010cc",
   "metadata": {},
   "outputs": [],
   "source": [
    "df = pd.read_csv('netflix.csv')"
   ]
  },
  {
   "cell_type": "code",
   "execution_count": 104,
   "id": "493fa19c-dbc0-4119-a5ba-4e2de3494523",
   "metadata": {},
   "outputs": [
    {
     "data": {
      "text/html": [
       "<div>\n",
       "<style scoped>\n",
       "    .dataframe tbody tr th:only-of-type {\n",
       "        vertical-align: middle;\n",
       "    }\n",
       "\n",
       "    .dataframe tbody tr th {\n",
       "        vertical-align: top;\n",
       "    }\n",
       "\n",
       "    .dataframe thead th {\n",
       "        text-align: right;\n",
       "    }\n",
       "</style>\n",
       "<table border=\"1\" class=\"dataframe\">\n",
       "  <thead>\n",
       "    <tr style=\"text-align: right;\">\n",
       "      <th></th>\n",
       "      <th>Release_Date</th>\n",
       "      <th>Title</th>\n",
       "      <th>Overview</th>\n",
       "      <th>Popularity</th>\n",
       "      <th>Vote_Count</th>\n",
       "      <th>Vote_Average</th>\n",
       "      <th>Original_Language</th>\n",
       "      <th>Genre</th>\n",
       "      <th>Poster_Url</th>\n",
       "      <th>Unnamed: 9</th>\n",
       "      <th>Unnamed: 10</th>\n",
       "      <th>Unnamed: 11</th>\n",
       "      <th>Unnamed: 12</th>\n",
       "      <th>Unnamed: 13</th>\n",
       "    </tr>\n",
       "  </thead>\n",
       "  <tbody>\n",
       "    <tr>\n",
       "      <th>0</th>\n",
       "      <td>12/15/2021</td>\n",
       "      <td>Spider-Man: No Way Home</td>\n",
       "      <td>Peter Parker is unmasked and no longer able to...</td>\n",
       "      <td>5083.954</td>\n",
       "      <td>8940</td>\n",
       "      <td>8.3</td>\n",
       "      <td>en</td>\n",
       "      <td>Action, Adventure, Science Fiction</td>\n",
       "      <td>https://image.tmdb.org/t/p/original/1g0dhYtq4i...</td>\n",
       "      <td>NaN</td>\n",
       "      <td>NaN</td>\n",
       "      <td>NaN</td>\n",
       "      <td>NaN</td>\n",
       "      <td>NaN</td>\n",
       "    </tr>\n",
       "    <tr>\n",
       "      <th>1</th>\n",
       "      <td>3/1/2022</td>\n",
       "      <td>The Batman</td>\n",
       "      <td>In his second year of fighting crime, Batman u...</td>\n",
       "      <td>3827.658</td>\n",
       "      <td>1151</td>\n",
       "      <td>8.1</td>\n",
       "      <td>en</td>\n",
       "      <td>Crime, Mystery, Thriller</td>\n",
       "      <td>https://image.tmdb.org/t/p/original/74xTEgt7R3...</td>\n",
       "      <td>NaN</td>\n",
       "      <td>NaN</td>\n",
       "      <td>NaN</td>\n",
       "      <td>NaN</td>\n",
       "      <td>NaN</td>\n",
       "    </tr>\n",
       "    <tr>\n",
       "      <th>2</th>\n",
       "      <td>2/25/2022</td>\n",
       "      <td>No Exit</td>\n",
       "      <td>Stranded at a rest stop in the mountains durin...</td>\n",
       "      <td>2618.087</td>\n",
       "      <td>122</td>\n",
       "      <td>6.3</td>\n",
       "      <td>en</td>\n",
       "      <td>Thriller</td>\n",
       "      <td>https://image.tmdb.org/t/p/original/vDHsLnOWKl...</td>\n",
       "      <td>NaN</td>\n",
       "      <td>NaN</td>\n",
       "      <td>NaN</td>\n",
       "      <td>NaN</td>\n",
       "      <td>NaN</td>\n",
       "    </tr>\n",
       "    <tr>\n",
       "      <th>3</th>\n",
       "      <td>11/24/2021</td>\n",
       "      <td>Encanto</td>\n",
       "      <td>The tale of an extraordinary family, the Madri...</td>\n",
       "      <td>2402.201</td>\n",
       "      <td>5076</td>\n",
       "      <td>7.7</td>\n",
       "      <td>en</td>\n",
       "      <td>Animation, Comedy, Family, Fantasy</td>\n",
       "      <td>https://image.tmdb.org/t/p/original/4j0PNHkMr5...</td>\n",
       "      <td>NaN</td>\n",
       "      <td>NaN</td>\n",
       "      <td>NaN</td>\n",
       "      <td>NaN</td>\n",
       "      <td>NaN</td>\n",
       "    </tr>\n",
       "    <tr>\n",
       "      <th>4</th>\n",
       "      <td>12/22/2021</td>\n",
       "      <td>The King's Man</td>\n",
       "      <td>As a collection of history's worst tyrants and...</td>\n",
       "      <td>1895.511</td>\n",
       "      <td>1793</td>\n",
       "      <td>7</td>\n",
       "      <td>en</td>\n",
       "      <td>Action, Adventure, Thriller, War</td>\n",
       "      <td>https://image.tmdb.org/t/p/original/aq4Pwv5Xeu...</td>\n",
       "      <td>NaN</td>\n",
       "      <td>NaN</td>\n",
       "      <td>NaN</td>\n",
       "      <td>NaN</td>\n",
       "      <td>NaN</td>\n",
       "    </tr>\n",
       "  </tbody>\n",
       "</table>\n",
       "</div>"
      ],
      "text/plain": [
       "  Release_Date                    Title  \\\n",
       "0   12/15/2021  Spider-Man: No Way Home   \n",
       "1     3/1/2022               The Batman   \n",
       "2    2/25/2022                  No Exit   \n",
       "3   11/24/2021                  Encanto   \n",
       "4   12/22/2021           The King's Man   \n",
       "\n",
       "                                            Overview Popularity Vote_Count  \\\n",
       "0  Peter Parker is unmasked and no longer able to...   5083.954       8940   \n",
       "1  In his second year of fighting crime, Batman u...   3827.658       1151   \n",
       "2  Stranded at a rest stop in the mountains durin...   2618.087        122   \n",
       "3  The tale of an extraordinary family, the Madri...   2402.201       5076   \n",
       "4  As a collection of history's worst tyrants and...   1895.511       1793   \n",
       "\n",
       "  Vote_Average Original_Language                               Genre  \\\n",
       "0          8.3                en  Action, Adventure, Science Fiction   \n",
       "1          8.1                en            Crime, Mystery, Thriller   \n",
       "2          6.3                en                            Thriller   \n",
       "3          7.7                en  Animation, Comedy, Family, Fantasy   \n",
       "4            7                en    Action, Adventure, Thriller, War   \n",
       "\n",
       "                                          Poster_Url  Unnamed: 9  Unnamed: 10  \\\n",
       "0  https://image.tmdb.org/t/p/original/1g0dhYtq4i...         NaN          NaN   \n",
       "1  https://image.tmdb.org/t/p/original/74xTEgt7R3...         NaN          NaN   \n",
       "2  https://image.tmdb.org/t/p/original/vDHsLnOWKl...         NaN          NaN   \n",
       "3  https://image.tmdb.org/t/p/original/4j0PNHkMr5...         NaN          NaN   \n",
       "4  https://image.tmdb.org/t/p/original/aq4Pwv5Xeu...         NaN          NaN   \n",
       "\n",
       "  Unnamed: 11 Unnamed: 12 Unnamed: 13  \n",
       "0         NaN         NaN         NaN  \n",
       "1         NaN         NaN         NaN  \n",
       "2         NaN         NaN         NaN  \n",
       "3         NaN         NaN         NaN  \n",
       "4         NaN         NaN         NaN  "
      ]
     },
     "execution_count": 104,
     "metadata": {},
     "output_type": "execute_result"
    }
   ],
   "source": [
    "df.head()\n"
   ]
  },
  {
   "cell_type": "markdown",
   "id": "6ab69be4-5d40-40ec-b84b-6039997bcbce",
   "metadata": {},
   "source": [
    " # Data types and non-null counts"
   ]
  },
  {
   "cell_type": "code",
   "execution_count": 105,
   "id": "3ea1c0c5-7cd8-42f0-a4ea-e6cac9460b4e",
   "metadata": {},
   "outputs": [
    {
     "name": "stdout",
     "output_type": "stream",
     "text": [
      "<class 'pandas.core.frame.DataFrame'>\n",
      "RangeIndex: 9839 entries, 0 to 9838\n",
      "Data columns (total 14 columns):\n",
      " #   Column             Non-Null Count  Dtype  \n",
      "---  ------             --------------  -----  \n",
      " 0   Release_Date       9839 non-null   object \n",
      " 1   Title              9830 non-null   object \n",
      " 2   Overview           9830 non-null   object \n",
      " 3   Popularity         9824 non-null   object \n",
      " 4   Vote_Count         9823 non-null   object \n",
      " 5   Vote_Average       9823 non-null   object \n",
      " 6   Original_Language  9823 non-null   object \n",
      " 7   Genre              9820 non-null   object \n",
      " 8   Poster_Url         9819 non-null   object \n",
      " 9   Unnamed: 9         1 non-null      float64\n",
      " 10  Unnamed: 10        1 non-null      float64\n",
      " 11  Unnamed: 11        1 non-null      object \n",
      " 12  Unnamed: 12        1 non-null      object \n",
      " 13  Unnamed: 13        1 non-null      object \n",
      "dtypes: float64(2), object(12)\n",
      "memory usage: 1.1+ MB\n",
      "None\n"
     ]
    }
   ],
   "source": [
    "print(df.info())         "
   ]
  },
  {
   "cell_type": "markdown",
   "id": "aee1c78d-0575-42b7-95f9-0a72c1ded1d5",
   "metadata": {},
   "source": [
    "# 3. Check for missing values\n"
   ]
  },
  {
   "cell_type": "markdown",
   "id": "81d62cdf-e294-4e83-99c0-55b175fdf8b9",
   "metadata": {},
   "source": [
    "print(df.isnull().sum())\n"
   ]
  },
  {
   "cell_type": "markdown",
   "id": "fbab52f1-cf4b-4110-bec6-5f5564eb3e59",
   "metadata": {},
   "source": [
    "#droping the columns\n"
   ]
  },
  {
   "cell_type": "code",
   "execution_count": 106,
   "id": "0991a181-bb23-4d65-bd55-97d4e5864920",
   "metadata": {},
   "outputs": [],
   "source": [
    "list = ['Overview', 'Original_Language','Poster_Url']"
   ]
  },
  {
   "cell_type": "code",
   "execution_count": 107,
   "id": "8d9f3354-c4b3-4f96-8bca-19b63d4f138c",
   "metadata": {},
   "outputs": [],
   "source": [
    "df.drop(list, axis = 1, inplace = True)"
   ]
  },
  {
   "cell_type": "code",
   "execution_count": 108,
   "id": "789930c4-1488-4b03-8ee3-65a36a9a782e",
   "metadata": {},
   "outputs": [
    {
     "data": {
      "text/plain": [
       "Index(['Release_Date', 'Title', 'Popularity', 'Vote_Count', 'Vote_Average',\n",
       "       'Genre', 'Unnamed: 9', 'Unnamed: 10', 'Unnamed: 11', 'Unnamed: 12',\n",
       "       'Unnamed: 13'],\n",
       "      dtype='object')"
      ]
     },
     "execution_count": 108,
     "metadata": {},
     "output_type": "execute_result"
    }
   ],
   "source": [
    "df.columns"
   ]
  },
  {
   "cell_type": "code",
   "execution_count": 109,
   "id": "eadf5b9e-65c9-464a-ba10-83b94a8965b4",
   "metadata": {},
   "outputs": [],
   "source": [
    "list2 = ['Unnamed: 9', 'Unnamed: 10', 'Unnamed: 11', 'Unnamed: 12','Unnamed: 13']\n",
    "df.drop(list2, axis = 1, inplace = True)\n"
   ]
  },
  {
   "cell_type": "code",
   "execution_count": 110,
   "id": "56243a53-0b30-4c1b-8cf1-c9dbcf514b70",
   "metadata": {},
   "outputs": [
    {
     "data": {
      "text/plain": [
       "Index(['Release_Date', 'Title', 'Popularity', 'Vote_Count', 'Vote_Average',\n",
       "       'Genre'],\n",
       "      dtype='object')"
      ]
     },
     "execution_count": 110,
     "metadata": {},
     "output_type": "execute_result"
    }
   ],
   "source": [
    "df.columns"
   ]
  },
  {
   "cell_type": "code",
   "execution_count": 111,
   "id": "9b86a98b",
   "metadata": {},
   "outputs": [
    {
     "data": {
      "text/plain": [
       "dtype('O')"
      ]
     },
     "execution_count": 111,
     "metadata": {},
     "output_type": "execute_result"
    }
   ],
   "source": [
    "df['Release_Date'].dtype"
   ]
  },
  {
   "cell_type": "code",
   "execution_count": 112,
   "id": "cb5e8a84-8299-4d8c-a196-a74ba34ef936",
   "metadata": {},
   "outputs": [],
   "source": [
    "#since there are some values in date column that are not in correct form threfor [ errors = 'coerce'] is used\n"
   ]
  },
  {
   "cell_type": "code",
   "execution_count": 113,
   "id": "5b2bb75d-a174-4380-99c8-aa5161cba629",
   "metadata": {},
   "outputs": [],
   "source": [
    "df['Release_Date'] = pd.to_datetime(df['Release_Date'], format='%m/%d/%Y',errors='coerce')\n"
   ]
  },
  {
   "cell_type": "code",
   "execution_count": 114,
   "id": "33cca100-1ea5-4458-9f2e-5a854454d3dd",
   "metadata": {},
   "outputs": [],
   "source": [
    "df['year'] = df['Release_Date'].dt.year\n"
   ]
  },
  {
   "cell_type": "code",
   "execution_count": 115,
   "id": "7b971491-b962-4f63-a39b-7c5a5b223bb9",
   "metadata": {},
   "outputs": [
    {
     "data": {
      "text/html": [
       "<div>\n",
       "<style scoped>\n",
       "    .dataframe tbody tr th:only-of-type {\n",
       "        vertical-align: middle;\n",
       "    }\n",
       "\n",
       "    .dataframe tbody tr th {\n",
       "        vertical-align: top;\n",
       "    }\n",
       "\n",
       "    .dataframe thead th {\n",
       "        text-align: right;\n",
       "    }\n",
       "</style>\n",
       "<table border=\"1\" class=\"dataframe\">\n",
       "  <thead>\n",
       "    <tr style=\"text-align: right;\">\n",
       "      <th></th>\n",
       "      <th>Release_Date</th>\n",
       "      <th>Title</th>\n",
       "      <th>Popularity</th>\n",
       "      <th>Vote_Count</th>\n",
       "      <th>Vote_Average</th>\n",
       "      <th>Genre</th>\n",
       "      <th>year</th>\n",
       "    </tr>\n",
       "  </thead>\n",
       "  <tbody>\n",
       "    <tr>\n",
       "      <th>0</th>\n",
       "      <td>2021-12-15</td>\n",
       "      <td>Spider-Man: No Way Home</td>\n",
       "      <td>5083.954</td>\n",
       "      <td>8940</td>\n",
       "      <td>8.3</td>\n",
       "      <td>Action, Adventure, Science Fiction</td>\n",
       "      <td>2021.0</td>\n",
       "    </tr>\n",
       "    <tr>\n",
       "      <th>1</th>\n",
       "      <td>2022-03-01</td>\n",
       "      <td>The Batman</td>\n",
       "      <td>3827.658</td>\n",
       "      <td>1151</td>\n",
       "      <td>8.1</td>\n",
       "      <td>Crime, Mystery, Thriller</td>\n",
       "      <td>2022.0</td>\n",
       "    </tr>\n",
       "    <tr>\n",
       "      <th>2</th>\n",
       "      <td>2022-02-25</td>\n",
       "      <td>No Exit</td>\n",
       "      <td>2618.087</td>\n",
       "      <td>122</td>\n",
       "      <td>6.3</td>\n",
       "      <td>Thriller</td>\n",
       "      <td>2022.0</td>\n",
       "    </tr>\n",
       "    <tr>\n",
       "      <th>3</th>\n",
       "      <td>2021-11-24</td>\n",
       "      <td>Encanto</td>\n",
       "      <td>2402.201</td>\n",
       "      <td>5076</td>\n",
       "      <td>7.7</td>\n",
       "      <td>Animation, Comedy, Family, Fantasy</td>\n",
       "      <td>2021.0</td>\n",
       "    </tr>\n",
       "    <tr>\n",
       "      <th>4</th>\n",
       "      <td>2021-12-22</td>\n",
       "      <td>The King's Man</td>\n",
       "      <td>1895.511</td>\n",
       "      <td>1793</td>\n",
       "      <td>7</td>\n",
       "      <td>Action, Adventure, Thriller, War</td>\n",
       "      <td>2021.0</td>\n",
       "    </tr>\n",
       "  </tbody>\n",
       "</table>\n",
       "</div>"
      ],
      "text/plain": [
       "  Release_Date                    Title Popularity Vote_Count Vote_Average  \\\n",
       "0   2021-12-15  Spider-Man: No Way Home   5083.954       8940          8.3   \n",
       "1   2022-03-01               The Batman   3827.658       1151          8.1   \n",
       "2   2022-02-25                  No Exit   2618.087        122          6.3   \n",
       "3   2021-11-24                  Encanto   2402.201       5076          7.7   \n",
       "4   2021-12-22           The King's Man   1895.511       1793            7   \n",
       "\n",
       "                                Genre    year  \n",
       "0  Action, Adventure, Science Fiction  2021.0  \n",
       "1            Crime, Mystery, Thriller  2022.0  \n",
       "2                            Thriller  2022.0  \n",
       "3  Animation, Comedy, Family, Fantasy  2021.0  \n",
       "4    Action, Adventure, Thriller, War  2021.0  "
      ]
     },
     "execution_count": 115,
     "metadata": {},
     "output_type": "execute_result"
    }
   ],
   "source": [
    "df.head()"
   ]
  },
  {
   "cell_type": "code",
   "execution_count": 116,
   "id": "5ce409d2-8eb4-4cc8-82de-368c1310a9f3",
   "metadata": {},
   "outputs": [],
   "source": [
    "df['Release_Date'] = df['Release_Date'].dt.year"
   ]
  },
  {
   "cell_type": "code",
   "execution_count": 117,
   "id": "7d0f42eb-b6f2-410e-92c4-8ec1ba8f5059",
   "metadata": {},
   "outputs": [
    {
     "data": {
      "text/html": [
       "<div>\n",
       "<style scoped>\n",
       "    .dataframe tbody tr th:only-of-type {\n",
       "        vertical-align: middle;\n",
       "    }\n",
       "\n",
       "    .dataframe tbody tr th {\n",
       "        vertical-align: top;\n",
       "    }\n",
       "\n",
       "    .dataframe thead th {\n",
       "        text-align: right;\n",
       "    }\n",
       "</style>\n",
       "<table border=\"1\" class=\"dataframe\">\n",
       "  <thead>\n",
       "    <tr style=\"text-align: right;\">\n",
       "      <th></th>\n",
       "      <th>Release_Date</th>\n",
       "      <th>Title</th>\n",
       "      <th>Popularity</th>\n",
       "      <th>Vote_Count</th>\n",
       "      <th>Vote_Average</th>\n",
       "      <th>Genre</th>\n",
       "      <th>year</th>\n",
       "    </tr>\n",
       "  </thead>\n",
       "  <tbody>\n",
       "    <tr>\n",
       "      <th>0</th>\n",
       "      <td>2021.0</td>\n",
       "      <td>Spider-Man: No Way Home</td>\n",
       "      <td>5083.954</td>\n",
       "      <td>8940</td>\n",
       "      <td>8.3</td>\n",
       "      <td>Action, Adventure, Science Fiction</td>\n",
       "      <td>2021.0</td>\n",
       "    </tr>\n",
       "    <tr>\n",
       "      <th>1</th>\n",
       "      <td>2022.0</td>\n",
       "      <td>The Batman</td>\n",
       "      <td>3827.658</td>\n",
       "      <td>1151</td>\n",
       "      <td>8.1</td>\n",
       "      <td>Crime, Mystery, Thriller</td>\n",
       "      <td>2022.0</td>\n",
       "    </tr>\n",
       "    <tr>\n",
       "      <th>2</th>\n",
       "      <td>2022.0</td>\n",
       "      <td>No Exit</td>\n",
       "      <td>2618.087</td>\n",
       "      <td>122</td>\n",
       "      <td>6.3</td>\n",
       "      <td>Thriller</td>\n",
       "      <td>2022.0</td>\n",
       "    </tr>\n",
       "    <tr>\n",
       "      <th>3</th>\n",
       "      <td>2021.0</td>\n",
       "      <td>Encanto</td>\n",
       "      <td>2402.201</td>\n",
       "      <td>5076</td>\n",
       "      <td>7.7</td>\n",
       "      <td>Animation, Comedy, Family, Fantasy</td>\n",
       "      <td>2021.0</td>\n",
       "    </tr>\n",
       "    <tr>\n",
       "      <th>4</th>\n",
       "      <td>2021.0</td>\n",
       "      <td>The King's Man</td>\n",
       "      <td>1895.511</td>\n",
       "      <td>1793</td>\n",
       "      <td>7</td>\n",
       "      <td>Action, Adventure, Thriller, War</td>\n",
       "      <td>2021.0</td>\n",
       "    </tr>\n",
       "  </tbody>\n",
       "</table>\n",
       "</div>"
      ],
      "text/plain": [
       "   Release_Date                    Title Popularity Vote_Count Vote_Average  \\\n",
       "0        2021.0  Spider-Man: No Way Home   5083.954       8940          8.3   \n",
       "1        2022.0               The Batman   3827.658       1151          8.1   \n",
       "2        2022.0                  No Exit   2618.087        122          6.3   \n",
       "3        2021.0                  Encanto   2402.201       5076          7.7   \n",
       "4        2021.0           The King's Man   1895.511       1793            7   \n",
       "\n",
       "                                Genre    year  \n",
       "0  Action, Adventure, Science Fiction  2021.0  \n",
       "1            Crime, Mystery, Thriller  2022.0  \n",
       "2                            Thriller  2022.0  \n",
       "3  Animation, Comedy, Family, Fantasy  2021.0  \n",
       "4    Action, Adventure, Thriller, War  2021.0  "
      ]
     },
     "execution_count": 117,
     "metadata": {},
     "output_type": "execute_result"
    }
   ],
   "source": [
    "df.head()"
   ]
  },
  {
   "cell_type": "code",
   "execution_count": 118,
   "id": "852c120e-a015-45a7-ae71-af7f634d340e",
   "metadata": {},
   "outputs": [],
   "source": [
    "df.rename(columns={'Release_Date': 'Release_year'}, inplace=True)"
   ]
  },
  {
   "cell_type": "code",
   "execution_count": 119,
   "id": "e65d8a25-6f2d-4db5-aa2a-bb53c7f2745e",
   "metadata": {},
   "outputs": [],
   "source": [
    "df.drop(['year'],axis = 1, inplace = True)"
   ]
  },
  {
   "cell_type": "code",
   "execution_count": 120,
   "id": "f6a183a1-ae0b-4101-b947-62c67fee1791",
   "metadata": {},
   "outputs": [
    {
     "data": {
      "text/html": [
       "<div>\n",
       "<style scoped>\n",
       "    .dataframe tbody tr th:only-of-type {\n",
       "        vertical-align: middle;\n",
       "    }\n",
       "\n",
       "    .dataframe tbody tr th {\n",
       "        vertical-align: top;\n",
       "    }\n",
       "\n",
       "    .dataframe thead th {\n",
       "        text-align: right;\n",
       "    }\n",
       "</style>\n",
       "<table border=\"1\" class=\"dataframe\">\n",
       "  <thead>\n",
       "    <tr style=\"text-align: right;\">\n",
       "      <th></th>\n",
       "      <th>Release_year</th>\n",
       "      <th>Title</th>\n",
       "      <th>Popularity</th>\n",
       "      <th>Vote_Count</th>\n",
       "      <th>Vote_Average</th>\n",
       "      <th>Genre</th>\n",
       "    </tr>\n",
       "  </thead>\n",
       "  <tbody>\n",
       "    <tr>\n",
       "      <th>0</th>\n",
       "      <td>2021.0</td>\n",
       "      <td>Spider-Man: No Way Home</td>\n",
       "      <td>5083.954</td>\n",
       "      <td>8940</td>\n",
       "      <td>8.3</td>\n",
       "      <td>Action, Adventure, Science Fiction</td>\n",
       "    </tr>\n",
       "    <tr>\n",
       "      <th>1</th>\n",
       "      <td>2022.0</td>\n",
       "      <td>The Batman</td>\n",
       "      <td>3827.658</td>\n",
       "      <td>1151</td>\n",
       "      <td>8.1</td>\n",
       "      <td>Crime, Mystery, Thriller</td>\n",
       "    </tr>\n",
       "    <tr>\n",
       "      <th>2</th>\n",
       "      <td>2022.0</td>\n",
       "      <td>No Exit</td>\n",
       "      <td>2618.087</td>\n",
       "      <td>122</td>\n",
       "      <td>6.3</td>\n",
       "      <td>Thriller</td>\n",
       "    </tr>\n",
       "    <tr>\n",
       "      <th>3</th>\n",
       "      <td>2021.0</td>\n",
       "      <td>Encanto</td>\n",
       "      <td>2402.201</td>\n",
       "      <td>5076</td>\n",
       "      <td>7.7</td>\n",
       "      <td>Animation, Comedy, Family, Fantasy</td>\n",
       "    </tr>\n",
       "    <tr>\n",
       "      <th>4</th>\n",
       "      <td>2021.0</td>\n",
       "      <td>The King's Man</td>\n",
       "      <td>1895.511</td>\n",
       "      <td>1793</td>\n",
       "      <td>7</td>\n",
       "      <td>Action, Adventure, Thriller, War</td>\n",
       "    </tr>\n",
       "  </tbody>\n",
       "</table>\n",
       "</div>"
      ],
      "text/plain": [
       "   Release_year                    Title Popularity Vote_Count Vote_Average  \\\n",
       "0        2021.0  Spider-Man: No Way Home   5083.954       8940          8.3   \n",
       "1        2022.0               The Batman   3827.658       1151          8.1   \n",
       "2        2022.0                  No Exit   2618.087        122          6.3   \n",
       "3        2021.0                  Encanto   2402.201       5076          7.7   \n",
       "4        2021.0           The King's Man   1895.511       1793            7   \n",
       "\n",
       "                                Genre  \n",
       "0  Action, Adventure, Science Fiction  \n",
       "1            Crime, Mystery, Thriller  \n",
       "2                            Thriller  \n",
       "3  Animation, Comedy, Family, Fantasy  \n",
       "4    Action, Adventure, Thriller, War  "
      ]
     },
     "execution_count": 120,
     "metadata": {},
     "output_type": "execute_result"
    }
   ],
   "source": [
    "df.head()"
   ]
  },
  {
   "cell_type": "code",
   "execution_count": 121,
   "id": "7342bdc8-4896-429f-9306-ecd29191a0b8",
   "metadata": {},
   "outputs": [
    {
     "data": {
      "text/plain": [
       "dtype('float64')"
      ]
     },
     "execution_count": 121,
     "metadata": {},
     "output_type": "execute_result"
    }
   ],
   "source": [
    "df['Release_year'].dtype"
   ]
  },
  {
   "cell_type": "code",
   "execution_count": 122,
   "id": "7ce7f34d-82b3-41d4-9fbb-7bdf467377af",
   "metadata": {},
   "outputs": [],
   "source": [
    "df['Release_year'] = df['Release_year'].fillna(0).astype(int)\n"
   ]
  },
  {
   "cell_type": "code",
   "execution_count": 123,
   "id": "9c6e208f-edde-4c0e-9537-0250bfd09d23",
   "metadata": {},
   "outputs": [
    {
     "data": {
      "text/plain": [
       "dtype('int64')"
      ]
     },
     "execution_count": 123,
     "metadata": {},
     "output_type": "execute_result"
    }
   ],
   "source": [
    "df['Release_year'].dtype"
   ]
  },
  {
   "cell_type": "code",
   "execution_count": 124,
   "id": "7b004ec5-5f82-457b-8f3e-9d0090f4d9b2",
   "metadata": {},
   "outputs": [
    {
     "data": {
      "text/html": [
       "<div>\n",
       "<style scoped>\n",
       "    .dataframe tbody tr th:only-of-type {\n",
       "        vertical-align: middle;\n",
       "    }\n",
       "\n",
       "    .dataframe tbody tr th {\n",
       "        vertical-align: top;\n",
       "    }\n",
       "\n",
       "    .dataframe thead th {\n",
       "        text-align: right;\n",
       "    }\n",
       "</style>\n",
       "<table border=\"1\" class=\"dataframe\">\n",
       "  <thead>\n",
       "    <tr style=\"text-align: right;\">\n",
       "      <th></th>\n",
       "      <th>Release_year</th>\n",
       "      <th>Title</th>\n",
       "      <th>Popularity</th>\n",
       "      <th>Vote_Count</th>\n",
       "      <th>Vote_Average</th>\n",
       "      <th>Genre</th>\n",
       "    </tr>\n",
       "  </thead>\n",
       "  <tbody>\n",
       "    <tr>\n",
       "      <th>0</th>\n",
       "      <td>2021</td>\n",
       "      <td>Spider-Man: No Way Home</td>\n",
       "      <td>5083.954</td>\n",
       "      <td>8940</td>\n",
       "      <td>8.3</td>\n",
       "      <td>Action, Adventure, Science Fiction</td>\n",
       "    </tr>\n",
       "    <tr>\n",
       "      <th>1</th>\n",
       "      <td>2022</td>\n",
       "      <td>The Batman</td>\n",
       "      <td>3827.658</td>\n",
       "      <td>1151</td>\n",
       "      <td>8.1</td>\n",
       "      <td>Crime, Mystery, Thriller</td>\n",
       "    </tr>\n",
       "    <tr>\n",
       "      <th>2</th>\n",
       "      <td>2022</td>\n",
       "      <td>No Exit</td>\n",
       "      <td>2618.087</td>\n",
       "      <td>122</td>\n",
       "      <td>6.3</td>\n",
       "      <td>Thriller</td>\n",
       "    </tr>\n",
       "    <tr>\n",
       "      <th>3</th>\n",
       "      <td>2021</td>\n",
       "      <td>Encanto</td>\n",
       "      <td>2402.201</td>\n",
       "      <td>5076</td>\n",
       "      <td>7.7</td>\n",
       "      <td>Animation, Comedy, Family, Fantasy</td>\n",
       "    </tr>\n",
       "    <tr>\n",
       "      <th>4</th>\n",
       "      <td>2021</td>\n",
       "      <td>The King's Man</td>\n",
       "      <td>1895.511</td>\n",
       "      <td>1793</td>\n",
       "      <td>7</td>\n",
       "      <td>Action, Adventure, Thriller, War</td>\n",
       "    </tr>\n",
       "  </tbody>\n",
       "</table>\n",
       "</div>"
      ],
      "text/plain": [
       "   Release_year                    Title Popularity Vote_Count Vote_Average  \\\n",
       "0          2021  Spider-Man: No Way Home   5083.954       8940          8.3   \n",
       "1          2022               The Batman   3827.658       1151          8.1   \n",
       "2          2022                  No Exit   2618.087        122          6.3   \n",
       "3          2021                  Encanto   2402.201       5076          7.7   \n",
       "4          2021           The King's Man   1895.511       1793            7   \n",
       "\n",
       "                                Genre  \n",
       "0  Action, Adventure, Science Fiction  \n",
       "1            Crime, Mystery, Thriller  \n",
       "2                            Thriller  \n",
       "3  Animation, Comedy, Family, Fantasy  \n",
       "4    Action, Adventure, Thriller, War  "
      ]
     },
     "execution_count": 124,
     "metadata": {},
     "output_type": "execute_result"
    }
   ],
   "source": [
    "df.head()"
   ]
  },
  {
   "cell_type": "code",
   "execution_count": 125,
   "id": "2d0c6e0b-03d7-4c7b-8251-9a1f2f5eb63a",
   "metadata": {},
   "outputs": [
    {
     "data": {
      "text/plain": [
       "dtype('O')"
      ]
     },
     "execution_count": 125,
     "metadata": {},
     "output_type": "execute_result"
    }
   ],
   "source": [
    "df['Vote_Average'].dtype"
   ]
  },
  {
   "cell_type": "code",
   "execution_count": 126,
   "id": "c0f9ab42-7b61-412a-9f48-7675de0bcb66",
   "metadata": {},
   "outputs": [],
   "source": [
    "df['Vote_Average'] = pd.to_numeric(df['Vote_Average'], downcast='integer', errors='coerce')\n"
   ]
  },
  {
   "cell_type": "code",
   "execution_count": 127,
   "id": "656f4d3a-bda5-4ce7-8fc0-961bdb945122",
   "metadata": {},
   "outputs": [
    {
     "data": {
      "text/plain": [
       "dtype('float64')"
      ]
     },
     "execution_count": 127,
     "metadata": {},
     "output_type": "execute_result"
    }
   ],
   "source": [
    "df['Vote_Average'].dtype"
   ]
  },
  {
   "cell_type": "markdown",
   "id": "8a722107-152d-4fda-b450-6efd9b912629",
   "metadata": {},
   "source": [
    "# Movie with maximum and minimmum average vote "
   ]
  },
  {
   "cell_type": "code",
   "execution_count": 128,
   "id": "6eecac0f-9114-4f10-a0ea-18b40533b9f7",
   "metadata": {},
   "outputs": [
    {
     "name": "stdout",
     "output_type": "stream",
     "text": [
      "Max of Average_Vote: 10.0\n",
      "Min of Average_vote: 0.0\n"
     ]
    }
   ],
   "source": [
    "max_average_vote = df['Vote_Average'].max()\n",
    "min_average_vote = df['Vote_Average'].min()\n",
    "\n",
    "print(\"Max of Average_Vote:\", max_average_vote)\n",
    "print(\"Min of Average_vote:\", min_average_vote)\n"
   ]
  },
  {
   "cell_type": "code",
   "execution_count": 129,
   "id": "513988c9-da8b-45e5-82fe-3d7c0c260de2",
   "metadata": {},
   "outputs": [
    {
     "name": "stdout",
     "output_type": "stream",
     "text": [
      "Movie with Max Average vote:\n",
      "      Release_year                       Title  Release_year Popularity  \\\n",
      "9404          2020  Kung Fu Master Huo Yuanjia          2020     13.745   \n",
      "\n",
      "      Vote_Average  \n",
      "9404          10.0  \n"
     ]
    }
   ],
   "source": [
    "print(\"Movie with Max Average vote:\")\n",
    "print(df[df['Vote_Average'] == max_average_vote][['Release_year','Title', 'Release_year', 'Popularity','Vote_Average']])\n"
   ]
  },
  {
   "cell_type": "code",
   "execution_count": 130,
   "id": "db87b527-276f-4ca2-96b9-69c47cbceb3e",
   "metadata": {},
   "outputs": [
    {
     "name": "stdout",
     "output_type": "stream",
     "text": [
      "Movie with Min Average vote:\n",
      "      Release_year                                  Title Popularity  \\\n",
      "80            2022                   Sonic the Hedgehog 2    317.159   \n",
      "210           2023                      Fast & Furious 10    181.216   \n",
      "231           2022          Dragon Ball Super: Super Hero    170.551   \n",
      "232           2022                       After Ever Happy    169.964   \n",
      "314           2022                           The Bad Guys    146.548   \n",
      "...            ...                                    ...        ...   \n",
      "9080          2016  Five Nights at Freddy's: The Fan Film     14.082   \n",
      "9147          2023                     The Little Mermaid     14.016   \n",
      "9158          2022                      The Kashmir Files     14.008   \n",
      "9190          2022                         I Love America     13.978   \n",
      "9725          2022   Tony Hawk: Until the Wheels Fall Off     13.446   \n",
      "\n",
      "      Vote_Average  \n",
      "80             0.0  \n",
      "210            0.0  \n",
      "231            0.0  \n",
      "232            0.0  \n",
      "314            0.0  \n",
      "...            ...  \n",
      "9080           0.0  \n",
      "9147           0.0  \n",
      "9158           0.0  \n",
      "9190           0.0  \n",
      "9725           0.0  \n",
      "\n",
      "[100 rows x 4 columns]\n"
     ]
    }
   ],
   "source": [
    "print(\"Movie with Min Average vote:\")\n",
    "print(df[df['Vote_Average'] == min_average_vote][['Release_year','Title', 'Popularity','Vote_Average']])"
   ]
  },
  {
   "cell_type": "code",
   "execution_count": 131,
   "id": "8c21d75a-fc9d-4a6d-9c1f-44a481238974",
   "metadata": {},
   "outputs": [],
   "source": [
    "# so there are 100 movies having 0.0 average vote"
   ]
  },
  {
   "cell_type": "markdown",
   "id": "967e6fcb-c645-4bfd-8ed1-139b91199942",
   "metadata": {},
   "source": [
    "#categorizing Vote_Average column :\n",
    "\n",
    "We would cut the Vote_Average values and make 4 categories: popular average\n",
    "below_avg not_popular to describe it more using catigorize_col() function\n",
    "provided above."
   ]
  },
  {
   "cell_type": "code",
   "execution_count": 132,
   "id": "917c510b-ce19-4d0e-8719-510327ce6ee1",
   "metadata": {},
   "outputs": [
    {
     "name": "stdout",
     "output_type": "stream",
     "text": [
      "[8.3, 8.1, 6.3, 7.7, 7.0, 6.6, 6.8, 5.3, 7.2, 5.9, 7.3, 7.1, 5.1, 4.6, 6.0, 8.2, 5.4, 6.1, 8.4, 6.9, 5.8, 7.4, 7.8, 8.0, 6.2, 6.7, 7.6, 8.6, 4.8, 5.5, 7.9, 6.4, 7.5, 5.7, 2.2, 6.5, 0.0, 5.6, 5.2, 5.0, 8.5, 3.5, 4.0, 3.3, 4.7, 4.2, 4.3, 2.0, 4.1, 4.9, 8.7, 4.5, 9.1, 4.4, nan, 3.6, 2.8, 3.9, 3.8, 9.0, 3.0, 3.1, 3.7, 3.4, 8.9, 2.9, 8.8, 3.2, 1.5, 9.2, 2.5, 1.8, 2.4, 2.6, 10.0]\n"
     ]
    }
   ],
   "source": [
    "print(df['Vote_Average'].unique().tolist())\n"
   ]
  },
  {
   "cell_type": "code",
   "execution_count": 133,
   "id": "6b26251c-de36-478e-ac41-692ba25f39b0",
   "metadata": {},
   "outputs": [],
   "source": [
    "# dropping columns having NaNs\n",
    "df.dropna(inplace = True)"
   ]
  },
  {
   "cell_type": "code",
   "execution_count": 134,
   "id": "02f5a159-3c4b-4435-acbf-3d3f86a9d760",
   "metadata": {},
   "outputs": [
    {
     "name": "stdout",
     "output_type": "stream",
     "text": [
      "[8.3, 8.1, 6.3, 7.7, 7.0, 6.6, 6.8, 5.3, 7.2, 5.9, 7.3, 7.1, 5.1, 4.6, 6.0, 8.2, 5.4, 6.1, 8.4, 6.9, 5.8, 7.4, 7.8, 8.0, 6.2, 6.7, 7.6, 8.6, 4.8, 5.5, 7.9, 6.4, 7.5, 5.7, 2.2, 6.5, 0.0, 5.6, 5.2, 5.0, 8.5, 3.5, 4.0, 3.3, 4.7, 4.2, 4.3, 2.0, 4.1, 4.9, 8.7, 4.5, 9.1, 4.4, 3.6, 2.8, 3.9, 3.8, 9.0, 3.0, 3.1, 3.7, 3.4, 8.9, 2.9, 8.8, 3.2, 1.5, 9.2, 2.5, 1.8, 2.4, 2.6, 10.0]\n"
     ]
    }
   ],
   "source": [
    "print(df['Vote_Average'].unique().tolist())"
   ]
  },
  {
   "cell_type": "code",
   "execution_count": 135,
   "id": "54386028-a5d5-45e0-88ad-4fe76102ae43",
   "metadata": {},
   "outputs": [],
   "source": [
    "def catigorize_col (df, col, labels):\n",
    " \"\"\"\n",
    " catigorizes a certain column based on its quartiles\n",
    "\n",
    " Args:\n",
    " (df) df - dataframe we are proccesing\n",
    " (col) str - to be catigorized column's name\n",
    " (labels) list - list of labels from min to max\n",
    "\n",
    " Returns:\n",
    " (df) df - dataframe with the categorized col\n",
    " \"\"\"\n",
    "\n",
    " # setting the edges to cut the column accordingly\n",
    " edges = [df[col].describe()['min'],\n",
    " df[col].describe()['25%'],\n",
    " df[col].describe()['50%'],\n",
    " df[col].describe()['75%'],\n",
    " df[col].describe()['max']]\n",
    "\n",
    " df[col] = pd.cut(df[col], edges, labels = labels, duplicates='drop')\n",
    " return df\n",
    "\n"
   ]
  },
  {
   "cell_type": "code",
   "execution_count": 136,
   "id": "f6e7cd7f-b453-4626-ba16-7512ea80c7cb",
   "metadata": {},
   "outputs": [],
   "source": [
    "# define labels for edges\n",
    "labels = ['not_popular', 'below_avg', 'average', 'popular']\n"
   ]
  },
  {
   "cell_type": "code",
   "execution_count": 137,
   "id": "bd93a92e-1347-4e73-863f-1e172a84ae4b",
   "metadata": {},
   "outputs": [
    {
     "data": {
      "text/html": [
       "<div>\n",
       "<style scoped>\n",
       "    .dataframe tbody tr th:only-of-type {\n",
       "        vertical-align: middle;\n",
       "    }\n",
       "\n",
       "    .dataframe tbody tr th {\n",
       "        vertical-align: top;\n",
       "    }\n",
       "\n",
       "    .dataframe thead th {\n",
       "        text-align: right;\n",
       "    }\n",
       "</style>\n",
       "<table border=\"1\" class=\"dataframe\">\n",
       "  <thead>\n",
       "    <tr style=\"text-align: right;\">\n",
       "      <th></th>\n",
       "      <th>Release_year</th>\n",
       "      <th>Title</th>\n",
       "      <th>Popularity</th>\n",
       "      <th>Vote_Count</th>\n",
       "      <th>Vote_Average</th>\n",
       "      <th>Genre</th>\n",
       "    </tr>\n",
       "  </thead>\n",
       "  <tbody>\n",
       "    <tr>\n",
       "      <th>0</th>\n",
       "      <td>2021</td>\n",
       "      <td>Spider-Man: No Way Home</td>\n",
       "      <td>5083.954</td>\n",
       "      <td>8940</td>\n",
       "      <td>popular</td>\n",
       "      <td>Action, Adventure, Science Fiction</td>\n",
       "    </tr>\n",
       "    <tr>\n",
       "      <th>1</th>\n",
       "      <td>2022</td>\n",
       "      <td>The Batman</td>\n",
       "      <td>3827.658</td>\n",
       "      <td>1151</td>\n",
       "      <td>popular</td>\n",
       "      <td>Crime, Mystery, Thriller</td>\n",
       "    </tr>\n",
       "    <tr>\n",
       "      <th>2</th>\n",
       "      <td>2022</td>\n",
       "      <td>No Exit</td>\n",
       "      <td>2618.087</td>\n",
       "      <td>122</td>\n",
       "      <td>below_avg</td>\n",
       "      <td>Thriller</td>\n",
       "    </tr>\n",
       "    <tr>\n",
       "      <th>3</th>\n",
       "      <td>2021</td>\n",
       "      <td>Encanto</td>\n",
       "      <td>2402.201</td>\n",
       "      <td>5076</td>\n",
       "      <td>popular</td>\n",
       "      <td>Animation, Comedy, Family, Fantasy</td>\n",
       "    </tr>\n",
       "    <tr>\n",
       "      <th>4</th>\n",
       "      <td>2021</td>\n",
       "      <td>The King's Man</td>\n",
       "      <td>1895.511</td>\n",
       "      <td>1793</td>\n",
       "      <td>average</td>\n",
       "      <td>Action, Adventure, Thriller, War</td>\n",
       "    </tr>\n",
       "    <tr>\n",
       "      <th>...</th>\n",
       "      <td>...</td>\n",
       "      <td>...</td>\n",
       "      <td>...</td>\n",
       "      <td>...</td>\n",
       "      <td>...</td>\n",
       "      <td>...</td>\n",
       "    </tr>\n",
       "    <tr>\n",
       "      <th>9834</th>\n",
       "      <td>1973</td>\n",
       "      <td>Badlands</td>\n",
       "      <td>13.357</td>\n",
       "      <td>896</td>\n",
       "      <td>popular</td>\n",
       "      <td>Drama, Crime</td>\n",
       "    </tr>\n",
       "    <tr>\n",
       "      <th>9835</th>\n",
       "      <td>2020</td>\n",
       "      <td>Violent Delights</td>\n",
       "      <td>13.356</td>\n",
       "      <td>8</td>\n",
       "      <td>not_popular</td>\n",
       "      <td>Horror</td>\n",
       "    </tr>\n",
       "    <tr>\n",
       "      <th>9836</th>\n",
       "      <td>2016</td>\n",
       "      <td>The Offering</td>\n",
       "      <td>13.355</td>\n",
       "      <td>94</td>\n",
       "      <td>not_popular</td>\n",
       "      <td>Mystery, Thriller, Horror</td>\n",
       "    </tr>\n",
       "    <tr>\n",
       "      <th>9837</th>\n",
       "      <td>2021</td>\n",
       "      <td>The United States vs. Billie Holiday</td>\n",
       "      <td>13.354</td>\n",
       "      <td>152</td>\n",
       "      <td>average</td>\n",
       "      <td>Music, Drama, History</td>\n",
       "    </tr>\n",
       "    <tr>\n",
       "      <th>9838</th>\n",
       "      <td>1984</td>\n",
       "      <td>Threads</td>\n",
       "      <td>13.354</td>\n",
       "      <td>186</td>\n",
       "      <td>popular</td>\n",
       "      <td>War, Drama, Science Fiction</td>\n",
       "    </tr>\n",
       "  </tbody>\n",
       "</table>\n",
       "<p>9818 rows × 6 columns</p>\n",
       "</div>"
      ],
      "text/plain": [
       "      Release_year                                 Title Popularity  \\\n",
       "0             2021               Spider-Man: No Way Home   5083.954   \n",
       "1             2022                            The Batman   3827.658   \n",
       "2             2022                               No Exit   2618.087   \n",
       "3             2021                               Encanto   2402.201   \n",
       "4             2021                        The King's Man   1895.511   \n",
       "...            ...                                   ...        ...   \n",
       "9834          1973                              Badlands     13.357   \n",
       "9835          2020                      Violent Delights     13.356   \n",
       "9836          2016                          The Offering     13.355   \n",
       "9837          2021  The United States vs. Billie Holiday     13.354   \n",
       "9838          1984                               Threads     13.354   \n",
       "\n",
       "     Vote_Count Vote_Average                               Genre  \n",
       "0          8940      popular  Action, Adventure, Science Fiction  \n",
       "1          1151      popular            Crime, Mystery, Thriller  \n",
       "2           122    below_avg                            Thriller  \n",
       "3          5076      popular  Animation, Comedy, Family, Fantasy  \n",
       "4          1793      average    Action, Adventure, Thriller, War  \n",
       "...         ...          ...                                 ...  \n",
       "9834        896      popular                        Drama, Crime  \n",
       "9835          8  not_popular                              Horror  \n",
       "9836         94  not_popular           Mystery, Thriller, Horror  \n",
       "9837        152      average               Music, Drama, History  \n",
       "9838        186      popular         War, Drama, Science Fiction  \n",
       "\n",
       "[9818 rows x 6 columns]"
      ]
     },
     "execution_count": 137,
     "metadata": {},
     "output_type": "execute_result"
    }
   ],
   "source": [
    "\n",
    "catigorize_col(df, 'Vote_Average', labels)\n"
   ]
  },
  {
   "cell_type": "code",
   "execution_count": 138,
   "id": "7dc175f0-406b-42ef-a7b3-2d6e2eb869f6",
   "metadata": {},
   "outputs": [
    {
     "data": {
      "text/plain": [
       "['popular', 'below_avg', 'average', 'not_popular', NaN]\n",
       "Categories (4, object): ['not_popular' < 'below_avg' < 'average' < 'popular']"
      ]
     },
     "execution_count": 138,
     "metadata": {},
     "output_type": "execute_result"
    }
   ],
   "source": [
    "# confirming changes\n",
    "df['Vote_Average'].unique()\n"
   ]
  },
  {
   "cell_type": "code",
   "execution_count": 139,
   "id": "a988a043-ff5f-446a-a635-00c12d4a2666",
   "metadata": {},
   "outputs": [
    {
     "data": {
      "text/plain": [
       "Vote_Average\n",
       "not_popular    2466\n",
       "popular        2446\n",
       "average        2409\n",
       "below_avg      2397\n",
       "Name: count, dtype: int64"
      ]
     },
     "execution_count": 139,
     "metadata": {},
     "output_type": "execute_result"
    }
   ],
   "source": [
    "df['Vote_Average'].value_counts()\n"
   ]
  },
  {
   "cell_type": "code",
   "execution_count": 140,
   "id": "0c931be7-c197-4aed-a3ea-3664d8f01f11",
   "metadata": {},
   "outputs": [
    {
     "data": {
      "text/plain": [
       "Release_year    0\n",
       "Title           0\n",
       "Popularity      0\n",
       "Vote_Count      0\n",
       "Vote_Average    0\n",
       "Genre           0\n",
       "dtype: int64"
      ]
     },
     "execution_count": 140,
     "metadata": {},
     "output_type": "execute_result"
    }
   ],
   "source": [
    "# dropping columns having NaNs\n",
    "df.dropna(inplace = True)\n",
    "\n",
    "df.isna().sum()\n"
   ]
  },
  {
   "cell_type": "markdown",
   "id": "222075ef-f870-4342-98fc-979b48a82493",
   "metadata": {},
   "source": [
    "# Now analysing this dataset using visualizations "
   ]
  },
  {
   "cell_type": "markdown",
   "id": "f5ad9f6d-3a3e-4257-ac86-0537e8272fcf",
   "metadata": {},
   "source": [
    "# Analysing movies as per the Genre :\n",
    "\n"
   ]
  },
  {
   "cell_type": "code",
   "execution_count": 141,
   "id": "32a8ba6f-e8fd-4e7a-bfbc-46d38ae2f097",
   "metadata": {},
   "outputs": [],
   "source": [
    "# For that first we need to separate each genre of individuals \n"
   ]
  },
  {
   "cell_type": "code",
   "execution_count": 142,
   "id": "c6126dde-96f1-4677-8e20-8eec76ac3813",
   "metadata": {},
   "outputs": [
    {
     "data": {
      "text/html": [
       "<div>\n",
       "<style scoped>\n",
       "    .dataframe tbody tr th:only-of-type {\n",
       "        vertical-align: middle;\n",
       "    }\n",
       "\n",
       "    .dataframe tbody tr th {\n",
       "        vertical-align: top;\n",
       "    }\n",
       "\n",
       "    .dataframe thead th {\n",
       "        text-align: right;\n",
       "    }\n",
       "</style>\n",
       "<table border=\"1\" class=\"dataframe\">\n",
       "  <thead>\n",
       "    <tr style=\"text-align: right;\">\n",
       "      <th></th>\n",
       "      <th>Release_year</th>\n",
       "      <th>Title</th>\n",
       "      <th>Popularity</th>\n",
       "      <th>Vote_Count</th>\n",
       "      <th>Vote_Average</th>\n",
       "      <th>Genre</th>\n",
       "    </tr>\n",
       "  </thead>\n",
       "  <tbody>\n",
       "    <tr>\n",
       "      <th>0</th>\n",
       "      <td>2021</td>\n",
       "      <td>Spider-Man: No Way Home</td>\n",
       "      <td>5083.954</td>\n",
       "      <td>8940</td>\n",
       "      <td>popular</td>\n",
       "      <td>Action</td>\n",
       "    </tr>\n",
       "    <tr>\n",
       "      <th>1</th>\n",
       "      <td>2021</td>\n",
       "      <td>Spider-Man: No Way Home</td>\n",
       "      <td>5083.954</td>\n",
       "      <td>8940</td>\n",
       "      <td>popular</td>\n",
       "      <td>Adventure</td>\n",
       "    </tr>\n",
       "    <tr>\n",
       "      <th>2</th>\n",
       "      <td>2021</td>\n",
       "      <td>Spider-Man: No Way Home</td>\n",
       "      <td>5083.954</td>\n",
       "      <td>8940</td>\n",
       "      <td>popular</td>\n",
       "      <td>Science Fiction</td>\n",
       "    </tr>\n",
       "    <tr>\n",
       "      <th>3</th>\n",
       "      <td>2022</td>\n",
       "      <td>The Batman</td>\n",
       "      <td>3827.658</td>\n",
       "      <td>1151</td>\n",
       "      <td>popular</td>\n",
       "      <td>Crime</td>\n",
       "    </tr>\n",
       "    <tr>\n",
       "      <th>4</th>\n",
       "      <td>2022</td>\n",
       "      <td>The Batman</td>\n",
       "      <td>3827.658</td>\n",
       "      <td>1151</td>\n",
       "      <td>popular</td>\n",
       "      <td>Mystery</td>\n",
       "    </tr>\n",
       "  </tbody>\n",
       "</table>\n",
       "</div>"
      ],
      "text/plain": [
       "   Release_year                    Title Popularity Vote_Count Vote_Average  \\\n",
       "0          2021  Spider-Man: No Way Home   5083.954       8940      popular   \n",
       "1          2021  Spider-Man: No Way Home   5083.954       8940      popular   \n",
       "2          2021  Spider-Man: No Way Home   5083.954       8940      popular   \n",
       "3          2022               The Batman   3827.658       1151      popular   \n",
       "4          2022               The Batman   3827.658       1151      popular   \n",
       "\n",
       "             Genre  \n",
       "0           Action  \n",
       "1        Adventure  \n",
       "2  Science Fiction  \n",
       "3            Crime  \n",
       "4          Mystery  "
      ]
     },
     "execution_count": 142,
     "metadata": {},
     "output_type": "execute_result"
    }
   ],
   "source": [
    "# split the strings into lists\n",
    "df['Genre'] = df['Genre'].str.split(', ')\n",
    "\n",
    "# explode the lists\n",
    "df = df.explode('Genre').reset_index(drop=True)\n",
    "\n",
    "df.head()\n"
   ]
  },
  {
   "cell_type": "code",
   "execution_count": 143,
   "id": "53bb5cde-7998-4154-8340-efc81992d130",
   "metadata": {},
   "outputs": [],
   "source": [
    "# setting up seaborn configurations\n",
    "\n",
    "sns.set_style('whitegrid')\n"
   ]
  },
  {
   "cell_type": "code",
   "execution_count": 144,
   "id": "e3119547-3129-429b-b03c-51966e64f06c",
   "metadata": {},
   "outputs": [
    {
     "data": {
      "text/plain": [
       "count     25525\n",
       "unique       19\n",
       "top       Drama\n",
       "freq       3714\n",
       "Name: Genre, dtype: object"
      ]
     },
     "execution_count": 144,
     "metadata": {},
     "output_type": "execute_result"
    }
   ],
   "source": [
    "# showing stats on genre column\n",
    "df['Genre'].describe()\n"
   ]
  },
  {
   "cell_type": "code",
   "execution_count": 145,
   "id": "51016dec-548a-46de-9c6a-a781e2862841",
   "metadata": {},
   "outputs": [
    {
     "data": {
      "image/png": "[encoded data removed]",
      "text/plain": [
       "<Figure size 1011.11x500 with 1 Axes>"
      ]
     },
     "metadata": {},
     "output_type": "display_data"
    }
   ],
   "source": [
    "sns.catplot(\n",
    "    x='Genre', \n",
    "    data=df, \n",
    "    kind='count',\n",
    "    order=df['Genre'].value_counts().index,\n",
    "    color='#4297f5',\n",
    "    height=5,       # Height of the plot in inches\n",
    "    aspect=2        # Aspect ratio (width = height × aspect)\n",
    ")\n",
    "\n",
    "plt.title('Genre Column Distribution')\n",
    "\n",
    "# Rotate labels for readability (to avoid overlapping)\n",
    "plt.xticks(rotation=45)\n",
    "\n",
    "plt.show()"
   ]
  },
  {
   "cell_type": "markdown",
   "id": "da7171f3-5399-4fbb-9b9f-a7b706769b2f",
   "metadata": {},
   "source": [
    "# Vote counts as per the genres"
   ]
  },
  {
   "cell_type": "code",
   "execution_count": 146,
   "id": "670f76a7-f4cf-4402-9ebe-33bf9fc5a912",
   "metadata": {},
   "outputs": [
    {
     "data": {
      "image/png": "[encoded data removed]",
      "text/plain": [
       "<Figure size 511.111x500 with 1 Axes>"
      ]
     },
     "metadata": {},
     "output_type": "display_data"
    }
   ],
   "source": [
    "# visualizing vote_average column\n",
    "sns.catplot(x= 'Vote_Average', data = df, kind = 'count',\n",
    "            \n",
    " order = df['Vote_Average'].value_counts().index,\n",
    " color = '#4287f5')\n",
    "\n",
    "plt.title('votes destribution')\n",
    "plt.show()"
   ]
  },
  {
   "cell_type": "code",
   "execution_count": 147,
   "id": "481c9bc6-666c-4149-8059-978467e8f2de",
   "metadata": {},
   "outputs": [
    {
     "data": {
      "image/png": "[encoded data removed]",
      "text/plain": [
       "<Figure size 800x600 with 1 Axes>"
      ]
     },
     "metadata": {},
     "output_type": "display_data"
    }
   ],
   "source": [
    "# vote_average as per genre\n",
    "\n",
    "plt.figure(figsize=(8, 6))\n",
    "sns.boxplot(x='Genre', y='Vote_Average', data=df,order=df['Genre'].value_counts().index )\n",
    "plt.xticks(rotation=45)\n",
    "plt.title('Vote Average by Genre')\n",
    "plt.tight_layout()\n",
    "plt.show()"
   ]
  },
  {
   "cell_type": "markdown",
   "id": "edbdf25b-7297-4ea5-b583-29cd97615b7e",
   "metadata": {},
   "source": [
    "# Most and least popular movie"
   ]
  },
  {
   "cell_type": "code",
   "execution_count": 148,
   "id": "786981ac-fbc8-4336-87e1-515835e26e21",
   "metadata": {},
   "outputs": [],
   "source": [
    "df['Popularity'] = pd.to_numeric(df['Popularity'], errors='coerce')"
   ]
  },
  {
   "cell_type": "code",
   "execution_count": 149,
   "id": "1640c2c7-b4fb-47b5-8534-b8ae194847c3",
   "metadata": {},
   "outputs": [
    {
     "name": "stdout",
     "output_type": "stream",
     "text": [
      "Most popular movie:\n"
     ]
    },
    {
     "data": {
      "text/html": [
       "<div>\n",
       "<style scoped>\n",
       "    .dataframe tbody tr th:only-of-type {\n",
       "        vertical-align: middle;\n",
       "    }\n",
       "\n",
       "    .dataframe tbody tr th {\n",
       "        vertical-align: top;\n",
       "    }\n",
       "\n",
       "    .dataframe thead th {\n",
       "        text-align: right;\n",
       "    }\n",
       "</style>\n",
       "<table border=\"1\" class=\"dataframe\">\n",
       "  <thead>\n",
       "    <tr style=\"text-align: right;\">\n",
       "      <th></th>\n",
       "      <th>Release_year</th>\n",
       "      <th>Title</th>\n",
       "      <th>Popularity</th>\n",
       "      <th>Vote_Average</th>\n",
       "    </tr>\n",
       "  </thead>\n",
       "  <tbody>\n",
       "    <tr>\n",
       "      <th>0</th>\n",
       "      <td>2021</td>\n",
       "      <td>Spider-Man: No Way Home</td>\n",
       "      <td>5083.954</td>\n",
       "      <td>popular</td>\n",
       "    </tr>\n",
       "    <tr>\n",
       "      <th>1</th>\n",
       "      <td>2021</td>\n",
       "      <td>Spider-Man: No Way Home</td>\n",
       "      <td>5083.954</td>\n",
       "      <td>popular</td>\n",
       "    </tr>\n",
       "    <tr>\n",
       "      <th>2</th>\n",
       "      <td>2021</td>\n",
       "      <td>Spider-Man: No Way Home</td>\n",
       "      <td>5083.954</td>\n",
       "      <td>popular</td>\n",
       "    </tr>\n",
       "  </tbody>\n",
       "</table>\n",
       "</div>"
      ],
      "text/plain": [
       "   Release_year                    Title  Popularity Vote_Average\n",
       "0          2021  Spider-Man: No Way Home    5083.954      popular\n",
       "1          2021  Spider-Man: No Way Home    5083.954      popular\n",
       "2          2021  Spider-Man: No Way Home    5083.954      popular"
      ]
     },
     "execution_count": 149,
     "metadata": {},
     "output_type": "execute_result"
    }
   ],
   "source": [
    "print(\"Most popular movie:\")\n",
    "df[df['Popularity'] == df['Popularity'].max()][['Release_year','Title', 'Popularity','Vote_Average']]\n",
    "\n"
   ]
  },
  {
   "cell_type": "code",
   "execution_count": 150,
   "id": "e561eaf8-98af-451f-98ca-2795c330ffb7",
   "metadata": {},
   "outputs": [
    {
     "name": "stdout",
     "output_type": "stream",
     "text": [
      "Least popular movie:\n"
     ]
    },
    {
     "data": {
      "text/html": [
       "<div>\n",
       "<style scoped>\n",
       "    .dataframe tbody tr th:only-of-type {\n",
       "        vertical-align: middle;\n",
       "    }\n",
       "\n",
       "    .dataframe tbody tr th {\n",
       "        vertical-align: top;\n",
       "    }\n",
       "\n",
       "    .dataframe thead th {\n",
       "        text-align: right;\n",
       "    }\n",
       "</style>\n",
       "<table border=\"1\" class=\"dataframe\">\n",
       "  <thead>\n",
       "    <tr style=\"text-align: right;\">\n",
       "      <th></th>\n",
       "      <th>Release_year</th>\n",
       "      <th>Title</th>\n",
       "      <th>Popularity</th>\n",
       "      <th>Vote_Average</th>\n",
       "    </tr>\n",
       "  </thead>\n",
       "  <tbody>\n",
       "    <tr>\n",
       "      <th>25519</th>\n",
       "      <td>2021</td>\n",
       "      <td>The United States vs. Billie Holiday</td>\n",
       "      <td>13.354</td>\n",
       "      <td>average</td>\n",
       "    </tr>\n",
       "    <tr>\n",
       "      <th>25520</th>\n",
       "      <td>2021</td>\n",
       "      <td>The United States vs. Billie Holiday</td>\n",
       "      <td>13.354</td>\n",
       "      <td>average</td>\n",
       "    </tr>\n",
       "    <tr>\n",
       "      <th>25521</th>\n",
       "      <td>2021</td>\n",
       "      <td>The United States vs. Billie Holiday</td>\n",
       "      <td>13.354</td>\n",
       "      <td>average</td>\n",
       "    </tr>\n",
       "    <tr>\n",
       "      <th>25522</th>\n",
       "      <td>1984</td>\n",
       "      <td>Threads</td>\n",
       "      <td>13.354</td>\n",
       "      <td>popular</td>\n",
       "    </tr>\n",
       "    <tr>\n",
       "      <th>25523</th>\n",
       "      <td>1984</td>\n",
       "      <td>Threads</td>\n",
       "      <td>13.354</td>\n",
       "      <td>popular</td>\n",
       "    </tr>\n",
       "    <tr>\n",
       "      <th>25524</th>\n",
       "      <td>1984</td>\n",
       "      <td>Threads</td>\n",
       "      <td>13.354</td>\n",
       "      <td>popular</td>\n",
       "    </tr>\n",
       "  </tbody>\n",
       "</table>\n",
       "</div>"
      ],
      "text/plain": [
       "       Release_year                                 Title  Popularity  \\\n",
       "25519          2021  The United States vs. Billie Holiday      13.354   \n",
       "25520          2021  The United States vs. Billie Holiday      13.354   \n",
       "25521          2021  The United States vs. Billie Holiday      13.354   \n",
       "25522          1984                               Threads      13.354   \n",
       "25523          1984                               Threads      13.354   \n",
       "25524          1984                               Threads      13.354   \n",
       "\n",
       "      Vote_Average  \n",
       "25519      average  \n",
       "25520      average  \n",
       "25521      average  \n",
       "25522      popular  \n",
       "25523      popular  \n",
       "25524      popular  "
      ]
     },
     "execution_count": 150,
     "metadata": {},
     "output_type": "execute_result"
    }
   ],
   "source": [
    "print(\"Least popular movie:\")\n",
    "df[df['Popularity'] == df['Popularity'].min()][['Release_year','Title', 'Popularity','Vote_Average']]\n"
   ]
  },
  {
   "cell_type": "markdown",
   "id": "7f8b03b1-aa37-4a67-805d-2b1747654de8",
   "metadata": {},
   "source": [
    "# Movies filmmed in each year"
   ]
  },
  {
   "cell_type": "code",
   "execution_count": 151,
   "id": "8f1e13ce-342c-4edd-ba5f-1dc7669395cf",
   "metadata": {},
   "outputs": [
    {
     "data": {
      "image/png": "[encoded data removed]",
      "text/plain": [
       "<Figure size 1511.11x1500 with 1 Axes>"
      ]
     },
     "metadata": {},
     "output_type": "display_data"
    }
   ],
   "source": [
    "sns.catplot(y= 'Release_year', data = df, kind = 'count',\n",
    "            \n",
    " order = df['Release_year'].value_counts().index,\n",
    " color = '#4287f5', height=15,aspect=1)\n",
    "plt.xticks(rotation=75)\n",
    "\n",
    "plt.title('Movie filmmed')\n",
    "plt.show()"
   ]
  },
  {
   "cell_type": "markdown",
   "id": "166cfbd2-ff02-45d5-88cb-c008794e55bc",
   "metadata": {},
   "source": [
    "# By using above analysis we can have conclussion for various results:\n"
   ]
  },
  {
   "cell_type": "markdown",
   "id": "32f3934b-9ed5-4176-a664-c9fdcb578863",
   "metadata": {},
   "source": [
    "1. Most frequent genre in the dataset.\n",
    "\n",
    "2. Genres having highest votes.\n",
    "\n",
    "3. Most and Least popular movies.\n",
    "\n",
    "4. Year in which most movies are filmmed.    "
   ]
  }
 ],
 "metadata": {
  "kernelspec": {
   "display_name": "Python [conda env:base] *",
   "language": "python",
   "name": "conda-base-py"
  },
  "language_info": {
   "codemirror_mode": {
    "name": "ipython",
    "version": 3
   },
   "file_extension": ".py",
   "mimetype": "text/x-python",
   "name": "python",
   "nbconvert_exporter": "python",
   "pygments_lexer": "ipython3",
   "version": "3.13.5"
  }
 },
 "nbformat": 4,
 "nbformat_minor": 5
}
